{
  "cells": [
    {
      "cell_type": "code",
      "source": [
        "data_dir = \"/home/azureuser/cloudfiles/data/datastore/workspaceblobstore/UI/2022-10-27_154318_UTC/pokemons/\"\r\n",
        "model_dir = \"pokedex.model\"\r\n",
        "labelbin = \"lb.pickle\"\r\n",
        "plot=\"plot.png\""
      ],
      "outputs": [],
      "execution_count": 1,
      "metadata": {
        "jupyter": {
          "source_hidden": false,
          "outputs_hidden": false
        },
        "nteract": {
          "transient": {
            "deleting": false
          }
        },
        "gather": {
          "logged": 1667609030355
        }
      }
    },
    {
      "cell_type": "code",
      "source": [
        "# import the necessary packages\r\n",
        "from tensorflow.keras.models import Sequential\r\n",
        "from tensorflow.keras.layers import BatchNormalization\r\n",
        "from tensorflow.keras.layers import Conv2D\r\n",
        "from tensorflow.keras.layers import MaxPooling2D\r\n",
        "from tensorflow.keras.layers import Activation\r\n",
        "from tensorflow.keras.layers import Flatten\r\n",
        "from tensorflow.keras.layers import Dropout\r\n",
        "from tensorflow.keras.layers import Dense\r\n",
        "from tensorflow.keras import backend as K\r\n",
        "\r\n",
        "class SmallerVGGNet:\r\n",
        "\t@staticmethod\r\n",
        "\tdef build(width, height, depth, classes):\r\n",
        "\t\t# initialize the model along with the input shape to be\r\n",
        "\t\t# \"channels last\" and the channels dimension itself\r\n",
        "\t\tmodel = Sequential()\r\n",
        "\t\tinputShape = (height, width, depth)\r\n",
        "\t\tchanDim = -1\r\n",
        "\r\n",
        "\t\t# if we are using \"channels first\", update the input shape\r\n",
        "\t\t# and channels dimension\r\n",
        "\t\tif K.image_data_format() == \"channels_first\":\r\n",
        "\t\t\tinputShape = (depth, height, width)\r\n",
        "\t\t\tchanDim = 1\r\n",
        "\r\n",
        "\t\t# CONV => RELU => POOL\r\n",
        "\t\tmodel.add(Conv2D(32, (3, 3), padding=\"same\",\r\n",
        "\t\t\tinput_shape=inputShape))\r\n",
        "\t\tmodel.add(Activation(\"relu\"))\r\n",
        "\t\tmodel.add(BatchNormalization(axis=chanDim))\r\n",
        "\t\tmodel.add(MaxPooling2D(pool_size=(3, 3)))\r\n",
        "\t\tmodel.add(Dropout(0.25))\r\n",
        "\r\n",
        "\t\t# (CONV => RELU) * 2 => POOL\r\n",
        "\t\tmodel.add(Conv2D(64, (3, 3), padding=\"same\"))\r\n",
        "\t\tmodel.add(Activation(\"relu\"))\r\n",
        "\t\tmodel.add(BatchNormalization(axis=chanDim))\r\n",
        "\t\tmodel.add(Conv2D(64, (3, 3), padding=\"same\"))\r\n",
        "\t\tmodel.add(Activation(\"relu\"))\r\n",
        "\t\tmodel.add(BatchNormalization(axis=chanDim))\r\n",
        "\t\tmodel.add(MaxPooling2D(pool_size=(2, 2)))\r\n",
        "\t\tmodel.add(Dropout(0.25))\r\n",
        "\r\n",
        "\t\t# (CONV => RELU) * 2 => POOL\r\n",
        "\t\tmodel.add(Conv2D(128, (3, 3), padding=\"same\"))\r\n",
        "\t\tmodel.add(Activation(\"relu\"))\r\n",
        "\t\tmodel.add(BatchNormalization(axis=chanDim))\r\n",
        "\t\tmodel.add(Conv2D(128, (3, 3), padding=\"same\"))\r\n",
        "\t\tmodel.add(Activation(\"relu\"))\r\n",
        "\t\tmodel.add(BatchNormalization(axis=chanDim))\r\n",
        "\t\tmodel.add(MaxPooling2D(pool_size=(2, 2)))\r\n",
        "\t\tmodel.add(Dropout(0.25))\r\n",
        "\r\n",
        "\t\t# first (and only) set of FC => RELU layers\r\n",
        "\t\tmodel.add(Flatten())\r\n",
        "\t\tmodel.add(Dense(1024))\r\n",
        "\t\tmodel.add(Activation(\"relu\"))\r\n",
        "\t\tmodel.add(BatchNormalization())\r\n",
        "\t\tmodel.add(Dropout(0.5))\r\n",
        "\r\n",
        "\t\t# softmax classifier\r\n",
        "\t\tmodel.add(Dense(classes))\r\n",
        "\t\tmodel.add(Activation(\"softmax\"))\r\n",
        "\r\n",
        "\t\t# return the constructed network architecture\r\n",
        "\t\treturn model"
      ],
      "outputs": [
        {
          "output_type": "stream",
          "name": "stderr",
          "text": "2022-11-05 00:44:08.806876: I tensorflow/core/platform/cpu_feature_guard.cc:193] This TensorFlow binary is optimized with oneAPI Deep Neural Network Library (oneDNN) to use the following CPU instructions in performance-critical operations:  AVX2 FMA\nTo enable them in other operations, rebuild TensorFlow with the appropriate compiler flags.\n2022-11-05 00:44:08.998794: E tensorflow/stream_executor/cuda/cuda_blas.cc:2981] Unable to register cuBLAS factory: Attempting to register factory for plugin cuBLAS when one has already been registered\n2022-11-05 00:44:10.003624: W tensorflow/stream_executor/platform/default/dso_loader.cc:64] Could not load dynamic library 'libnvinfer.so.7'; dlerror: libnvinfer.so.7: cannot open shared object file: No such file or directory\n2022-11-05 00:44:10.003799: W tensorflow/stream_executor/platform/default/dso_loader.cc:64] Could not load dynamic library 'libnvinfer_plugin.so.7'; dlerror: libnvinfer_plugin.so.7: cannot open shared object file: No such file or directory\n2022-11-05 00:44:10.003815: W tensorflow/compiler/tf2tensorrt/utils/py_utils.cc:38] TF-TRT Warning: Cannot dlopen some TensorRT libraries. If you would like to use Nvidia GPU with TensorRT, please make sure the missing libraries mentioned above are installed properly.\n"
        }
      ],
      "execution_count": 2,
      "metadata": {
        "jupyter": {
          "source_hidden": false,
          "outputs_hidden": false
        },
        "nteract": {
          "transient": {
            "deleting": false
          }
        },
        "gather": {
          "logged": 1667609037301
        }
      }
    },
    {
      "cell_type": "code",
      "source": [
        "import matplotlib\r\n",
        "matplotlib.use(\"Agg\")\r\n",
        "\r\n",
        "# import the necessary packages\r\n",
        "from tensorflow.keras.preprocessing.image import ImageDataGenerator\r\n",
        "from tensorflow.keras.optimizers import Adam\r\n",
        "from tensorflow.keras.preprocessing.image import img_to_array\r\n",
        "from sklearn.preprocessing import LabelBinarizer\r\n",
        "from sklearn.model_selection import train_test_split\r\n",
        "from imutils import paths\r\n",
        "import matplotlib.pyplot as plt\r\n",
        "import numpy as np\r\n",
        "import argparse\r\n",
        "import random\r\n",
        "import pickle\r\n",
        "import cv2\r\n",
        "import os"
      ],
      "outputs": [],
      "execution_count": 3,
      "metadata": {
        "gather": {
          "logged": 1667609038836
        }
      }
    },
    {
      "cell_type": "code",
      "source": [
        "# initialize the number of epochs to train for, initial learning rate,\r\n",
        "# batch size, and image dimensions\r\n",
        "EPOCHS = 2\r\n",
        "INIT_LR = 1e-3\r\n",
        "BS = 32\r\n",
        "IMAGE_DIMS = (96, 96, 3)\r\n",
        "\r\n",
        "# initialize the data and labels\r\n",
        "data = []\r\n",
        "labels = []"
      ],
      "outputs": [],
      "execution_count": 12,
      "metadata": {
        "jupyter": {
          "source_hidden": false,
          "outputs_hidden": false
        },
        "nteract": {
          "transient": {
            "deleting": false
          }
        },
        "gather": {
          "logged": 1667609284423
        }
      }
    },
    {
      "cell_type": "code",
      "source": [
        "# grab the image paths and randomly shuffle them\r\n",
        "print(\"[INFO] loading images...\")\r\n",
        "imagePaths = sorted(list(paths.list_images(data_dir)))\r\n",
        "random.seed(42)\r\n",
        "random.shuffle(imagePaths)"
      ],
      "outputs": [
        {
          "output_type": "stream",
          "name": "stdout",
          "text": "[INFO] loading images...\n"
        }
      ],
      "execution_count": 5,
      "metadata": {
        "jupyter": {
          "source_hidden": false,
          "outputs_hidden": false
        },
        "nteract": {
          "transient": {
            "deleting": false
          }
        },
        "gather": {
          "logged": 1667609039312
        }
      }
    },
    {
      "cell_type": "code",
      "source": [
        "# grab the image paths and randomly shuffle them\r\n",
        "print(\"[INFO] loading images...\")\r\n",
        "imagePaths = sorted(list(paths.list_images(data_dir)))\r\n",
        "random.seed(42)\r\n",
        "random.shuffle(imagePaths)"
      ],
      "outputs": [
        {
          "output_type": "stream",
          "name": "stdout",
          "text": "[INFO] loading images...\n"
        }
      ],
      "execution_count": 6,
      "metadata": {
        "jupyter": {
          "source_hidden": false,
          "outputs_hidden": false
        },
        "nteract": {
          "transient": {
            "deleting": false
          }
        },
        "gather": {
          "logged": 1667609040056
        }
      }
    },
    {
      "cell_type": "code",
      "source": [
        "# loop over the input images\r\n",
        "for imagePath in imagePaths:\r\n",
        "\t# load the image, pre-process it, and store it in the data list\r\n",
        "\timage = cv2.imread(imagePath)\r\n",
        "\timage = cv2.resize(image, (IMAGE_DIMS[1], IMAGE_DIMS[0]))\r\n",
        "\timage = img_to_array(image)\r\n",
        "\tdata.append(image)\r\n",
        " \r\n",
        "\t# extract the class label from the image path and update the\r\n",
        "\t# labels list\r\n",
        "\tlabel = imagePath.split(os.path.sep)[-2]\r\n",
        "\tlabels.append(label)"
      ],
      "outputs": [
        {
          "output_type": "stream",
          "name": "stderr",
          "text": "libpng warning: iCCP: known incorrect sRGB profile\nlibpng warning: iCCP: known incorrect sRGB profile\nlibpng warning: iCCP: known incorrect sRGB profile\nlibpng warning: iCCP: known incorrect sRGB profile\nlibpng warning: iCCP: known incorrect sRGB profile\nlibpng warning: iCCP: known incorrect sRGB profile\nlibpng warning: iCCP: cHRM chunk does not match sRGB\nlibpng warning: iCCP: known incorrect sRGB profile\nlibpng warning: iCCP: known incorrect sRGB profile\nlibpng warning: iCCP: known incorrect sRGB profile\nlibpng warning: iCCP: known incorrect sRGB profile\nlibpng warning: iCCP: known incorrect sRGB profile\nlibpng warning: iCCP: known incorrect sRGB profile\nlibpng warning: iCCP: known incorrect sRGB profile\nlibpng warning: iCCP: known incorrect sRGB profile\nlibpng warning: iCCP: known incorrect sRGB profile\nlibpng warning: iCCP: known incorrect sRGB profile\nlibpng warning: iCCP: known incorrect sRGB profile\nlibpng warning: iCCP: known incorrect sRGB profile\nlibpng warning: iCCP: known incorrect sRGB profile\nlibpng warning: bKGD: invalid\nlibpng warning: iCCP: known incorrect sRGB profile\nlibpng warning: iCCP: cHRM chunk does not match sRGB\nlibpng warning: iCCP: known incorrect sRGB profile\nlibpng warning: iCCP: known incorrect sRGB profile\nlibpng warning: iCCP: known incorrect sRGB profile\nlibpng warning: iCCP: known incorrect sRGB profile\nlibpng warning: iCCP: known incorrect sRGB profile\nlibpng warning: iCCP: known incorrect sRGB profile\nlibpng warning: iCCP: too many profiles\nlibpng warning: iCCP: known incorrect sRGB profile\nlibpng warning: iCCP: known incorrect sRGB profile\nlibpng warning: iCCP: known incorrect sRGB profile\nlibpng warning: iCCP: cHRM chunk does not match sRGB\nlibpng warning: iCCP: known incorrect sRGB profile\nlibpng warning: iCCP: known incorrect sRGB profile\nlibpng warning: iCCP: known incorrect sRGB profile\nlibpng warning: iCCP: known incorrect sRGB profile\nlibpng warning: iCCP: known incorrect sRGB profile\nlibpng warning: iCCP: known incorrect sRGB profile\n"
        }
      ],
      "execution_count": 7,
      "metadata": {
        "jupyter": {
          "source_hidden": false,
          "outputs_hidden": false
        },
        "nteract": {
          "transient": {
            "deleting": false
          }
        },
        "gather": {
          "logged": 1667609071208
        }
      }
    },
    {
      "cell_type": "code",
      "source": [
        "# scale the raw pixel intensities to the range [0, 1]\r\n",
        "data = np.array(data, dtype=\"float\") / 255.0\r\n",
        "labels = np.array(labels)\r\n",
        "print(\"[INFO] data matrix: {:.2f}MB\".format(\r\n",
        "\tdata.nbytes / (1024 * 1000.0)))\r\n",
        "\r\n",
        "# binarize the labels\r\n",
        "lb = LabelBinarizer()\r\n",
        "labels = lb.fit_transform(labels)\r\n",
        "\r\n",
        "# partition the data into training and testing splits using 80% of\r\n",
        "# the data for training and the remaining 20% for testing\r\n",
        "(trainX, testX, trainY, testY) = train_test_split(data,\r\n",
        "\tlabels, test_size=0.2, random_state=42)\r\n",
        "\r\n",
        "# construct the image generator for data augmentation\r\n",
        "aug = ImageDataGenerator(rotation_range=25, width_shift_range=0.1,\r\n",
        "\theight_shift_range=0.1, shear_range=0.2, zoom_range=0.2,\r\n",
        "\thorizontal_flip=True, fill_mode=\"nearest\")"
      ],
      "outputs": [
        {
          "output_type": "stream",
          "name": "stdout",
          "text": "[INFO] data matrix: 252.07MB\n"
        }
      ],
      "execution_count": 8,
      "metadata": {
        "jupyter": {
          "source_hidden": false,
          "outputs_hidden": false
        },
        "nteract": {
          "transient": {
            "deleting": false
          }
        },
        "gather": {
          "logged": 1667609079156
        }
      }
    },
    {
      "cell_type": "code",
      "source": [
        "# initialize the model\r\n",
        "print(\"[INFO] compiling model...\")\r\n",
        "model = SmallerVGGNet.build(width=IMAGE_DIMS[1], height=IMAGE_DIMS[0],\r\n",
        "\tdepth=IMAGE_DIMS[2], classes=len(lb.classes_))\r\n",
        "opt = Adam(lr=INIT_LR, decay=INIT_LR / EPOCHS)\r\n",
        "model.compile(loss=\"categorical_crossentropy\", optimizer=opt,\r\n",
        "\tmetrics=[\"accuracy\"])"
      ],
      "outputs": [
        {
          "output_type": "stream",
          "name": "stderr",
          "text": "/home/azureuser/anaconda3/envs/pokedex/lib/python3.7/site-packages/keras/optimizers/optimizer_v2/adam.py:114: UserWarning: The `lr` argument is deprecated, use `learning_rate` instead.\n  super().__init__(name, **kwargs)\n2022-11-05 00:44:56.728214: E tensorflow/stream_executor/cuda/cuda_driver.cc:265] failed call to cuInit: CUDA_ERROR_NO_DEVICE: no CUDA-capable device is detected\n2022-11-05 00:44:56.728296: I tensorflow/stream_executor/cuda/cuda_diagnostics.cc:156] kernel driver does not appear to be running on this host (johwu-ci): /proc/driver/nvidia/version does not exist\n2022-11-05 00:44:56.729195: I tensorflow/core/platform/cpu_feature_guard.cc:193] This TensorFlow binary is optimized with oneAPI Deep Neural Network Library (oneDNN) to use the following CPU instructions in performance-critical operations:  AVX2 FMA\nTo enable them in other operations, rebuild TensorFlow with the appropriate compiler flags.\n/home/azureuser/anaconda3/envs/pokedex/lib/python3.7/site-packages/keras/optimizers/optimizer_v2/adam.py:114: UserWarning: The `lr` argument is deprecated, use `learning_rate` instead.\n  super().__init__(name, **kwargs)\n"
        }
      ],
      "execution_count": 9,
      "metadata": {
        "jupyter": {
          "source_hidden": false,
          "outputs_hidden": false
        },
        "nteract": {
          "transient": {
            "deleting": false
          }
        },
        "gather": {
          "logged": 1667609083516
        }
      }
    },
    {
      "cell_type": "code",
      "source": [
        "# train the network\r\n",
        "print(\"[INFO] training network...\")\r\n",
        "H = model.fit_generator(\r\n",
        "\taug.flow(trainX, trainY, batch_size=BS),\r\n",
        "\tvalidation_data=(testX, testY),\r\n",
        "\tsteps_per_epoch=len(trainX) // BS,\r\n",
        "\tepochs=EPOCHS, verbose=1)\r\n",
        "\r\n",
        "# save the model to disk\r\n",
        "print(\"[INFO] serializing network...\")\r\n",
        "model.save(model_dir)\r\n",
        "\r\n",
        "# save the label binarizer to disk\r\n",
        "print(\"[INFO] serializing label binarizer...\")\r\n",
        "f = open(labelbin, \"wb\")\r\n",
        "f.write(pickle.dumps(lb))\r\n",
        "f.close()"
      ],
      "outputs": [
        {
          "output_type": "stream",
          "name": "stdout",
          "text": "[INFO] training network...\nEpoch 1/2\n29/29 [==============================] - 7s 225ms/step - loss: 0.2771 - accuracy: 0.9046 - val_loss: 0.4510 - val_accuracy: 0.8932\b\b\b\b\b\b\b\b\b\b\b\b\b\b\b\b\b\b\b\b\b\b\b\b\b\b\b\b\b\b\b\b\b\b\nEpoch 2/2\n29/29 [==============================] - 7s 223ms/step - loss: 0.2779 - accuracy: 0.9123 - val_loss: 0.7699 - val_accuracy: 0.8419\b\b\b\b\b\b\b\b\b\b\b\b\b\b\b\b\b\b\b\b\b\b\b\b\b\b\b\b\b\b\b\b\b\b\n[INFO] serializing network...\nINFO:tensorflow:Assets written to: pokedex.model/assets\n[INFO] serializing label binarizer...\n"
        },
        {
          "output_type": "stream",
          "name": "stderr",
          "text": "/home/azureuser/anaconda3/envs/pokedex/lib/python3.7/site-packages/ipykernel_launcher.py:7: UserWarning: `Model.fit_generator` is deprecated and will be removed in a future version. Please use `Model.fit`, which supports generators.\n  import sys\n/home/azureuser/anaconda3/envs/pokedex/lib/python3.7/site-packages/ipykernel_launcher.py:7: UserWarning: `Model.fit_generator` is deprecated and will be removed in a future version. Please use `Model.fit`, which supports generators.\n  import sys\n/home/azureuser/anaconda3/envs/pokedex/lib/python3.7/site-packages/ipykernel_launcher.py:7: UserWarning: `Model.fit_generator` is deprecated and will be removed in a future version. Please use `Model.fit`, which supports generators.\n  import sys\nWARNING:absl:Found untraced functions such as _jit_compiled_convolution_op, _jit_compiled_convolution_op, _jit_compiled_convolution_op, _jit_compiled_convolution_op, _jit_compiled_convolution_op while saving (showing 5 of 5). These functions will not be directly callable after loading.\n"
        }
      ],
      "execution_count": 13,
      "metadata": {
        "jupyter": {
          "source_hidden": false,
          "outputs_hidden": false
        },
        "nteract": {
          "transient": {
            "deleting": false
          }
        },
        "gather": {
          "logged": 1667609309945
        }
      }
    },
    {
      "cell_type": "code",
      "source": [
        "print(H.history)"
      ],
      "outputs": [
        {
          "output_type": "execute_result",
          "execution_count": 17,
          "data": {
            "text/plain": "{'loss': [0.27711448073387146, 0.27793294191360474],\n 'accuracy': [0.9045504927635193, 0.9123196601867676],\n 'val_loss': [0.4509790539741516, 0.7698869109153748],\n 'val_accuracy': [0.8931623697280884, 0.8418803215026855]}"
          },
          "metadata": {}
        }
      ],
      "execution_count": 17,
      "metadata": {
        "jupyter": {
          "source_hidden": false,
          "outputs_hidden": false
        },
        "nteract": {
          "transient": {
            "deleting": false
          }
        },
        "gather": {
          "logged": 1667609357149
        }
      }
    },
    {
      "cell_type": "code",
      "source": [],
      "outputs": [],
      "execution_count": null,
      "metadata": {
        "jupyter": {
          "source_hidden": false,
          "outputs_hidden": false
        },
        "nteract": {
          "transient": {
            "deleting": false
          }
        }
      }
    }
  ],
  "metadata": {
    "kernelspec": {
      "name": "pokedex",
      "language": "python",
      "display_name": "pokdex"
    },
    "language_info": {
      "name": "python",
      "version": "3.9.12",
      "mimetype": "text/x-python",
      "codemirror_mode": {
        "name": "ipython",
        "version": 3
      },
      "pygments_lexer": "ipython3",
      "nbconvert_exporter": "python",
      "file_extension": ".py"
    },
    "kernel_info": {
      "name": "pokedex"
    },
    "microsoft": {
      "host": {
        "AzureML": {
          "notebookHasBeenCompleted": true
        }
      }
    },
    "nteract": {
      "version": "nteract-front-end@1.0.0"
    }
  },
  "nbformat": 4,
  "nbformat_minor": 2
}